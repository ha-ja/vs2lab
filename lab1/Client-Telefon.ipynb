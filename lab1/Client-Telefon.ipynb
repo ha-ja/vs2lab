{
 "cells": [
  {
   "cell_type": "markdown",
   "metadata": {},
   "source": [
    "# Running server and client in separate notebooks - client part\n",
    "\n",
    "Here we start the client. The server needs to be started first. Lets go...."
   ]
  },
  {
   "cell_type": "code",
   "execution_count": 2,
   "metadata": {},
   "outputs": [
    {
     "name": "stderr",
     "output_type": "stream",
     "text": [
      "2024-04-11 09:25:47,151 - vs2lab.a1_layers.clientserver.Client - INFO - Client connected to socket <socket.socket fd=71, family=2, type=1, proto=0, laddr=('127.0.0.1', 50634), raddr=('127.0.0.1', 50007)>\n",
      "2024-04-11 09:25:47,154 - vs2lab.a1_layers.clientserver.Client - INFO - Client down.\n"
     ]
    },
    {
     "name": "stdout",
     "output_type": "stream",
     "text": [
      "GETALL: John: 123-456-7890, Alice: 987-654-3210, Bob: 555-555-5555, Eve: 111-222-3333, Charlie: 444-444-4444, Diana: 777-777-7777, Frank: 888-888-8888, Grace: 999-999-9999, Harry: 666-666-6666, Irene: 333-333-3333\n"
     ]
    },
    {
     "data": {
      "text/plain": [
       "'GETALL: John: 123-456-7890, Alice: 987-654-3210, Bob: 555-555-5555, Eve: 111-222-3333, Charlie: 444-444-4444, Diana: 777-777-7777, Frank: 888-888-8888, Grace: 999-999-9999, Harry: 666-666-6666, Irene: 333-333-3333'"
      ]
     },
     "execution_count": 2,
     "metadata": {},
     "output_type": "execute_result"
    }
   ],
   "source": [
    "import clientserverTelefon # import from our script\n",
    "\n",
    "client = clientserverTelefon.Client() # Create a client instance\n",
    "\n",
    "client.getAll()"
   ]
  },
  {
   "cell_type": "code",
   "execution_count": 1,
   "metadata": {},
   "outputs": [
    {
     "name": "stderr",
     "output_type": "stream",
     "text": [
      "2024-04-11 09:25:41,923 - vs2lab.a1_layers.clientserver.Client - INFO - Client connected to socket <socket.socket fd=71, family=2, type=1, proto=0, laddr=('127.0.0.1', 58334), raddr=('127.0.0.1', 50007)>\n",
      "2024-04-11 09:25:41,927 - vs2lab.a1_layers.clientserver.Client - INFO - Client down.\n"
     ]
    },
    {
     "name": "stdout",
     "output_type": "stream",
     "text": [
      "GET: Alice: 987-654-3210\n"
     ]
    },
    {
     "data": {
      "text/plain": [
       "'GET: Alice: 987-654-3210'"
      ]
     },
     "execution_count": 1,
     "metadata": {},
     "output_type": "execute_result"
    }
   ],
   "source": [
    "import clientserverTelefon # import from our script\n",
    "\n",
    "client = clientserverTelefon.Client() # Create a client instance\n",
    "client.get(\"Alice\")"
   ]
  },
  {
   "cell_type": "markdown",
   "metadata": {},
   "source": [
    "Finished."
   ]
  }
 ],
 "metadata": {
  "kernelspec": {
   "display_name": "Python 3",
   "language": "python",
   "name": "python3"
  },
  "language_info": {
   "codemirror_mode": {
    "name": "ipython",
    "version": 3
   },
   "file_extension": ".py",
   "mimetype": "text/x-python",
   "name": "python",
   "nbconvert_exporter": "python",
   "pygments_lexer": "ipython3",
   "version": "3.11.4"
  }
 },
 "nbformat": 4,
 "nbformat_minor": 2
}
